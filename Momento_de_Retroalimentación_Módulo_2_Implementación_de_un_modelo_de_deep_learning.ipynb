{
  "nbformat": 4,
  "nbformat_minor": 0,
  "metadata": {
    "colab": {
      "provenance": []
    },
    "kernelspec": {
      "name": "python3",
      "display_name": "Python 3"
    },
    "language_info": {
      "name": "python"
    }
  },
  "cells": [
    {
      "cell_type": "markdown",
      "source": [
        "<font face = \"times new roman\">\n",
        "<center>\n",
        "<img src = \"https://javier.rodriguez.org.mx/itesm/2014/tecnologico-de-monterrey-blue.png\" width = \"250\">\n",
        "<h3></h3>\n",
        "<h3>Momento de Retroalimentación: Módulo 2 Implementación de un modelo de deep learning</h3>\n",
        "<h3>Daniel Alejandro Martínez Cienfuegos - A01745412</h3>\n",
        "<h3>Inteligencia artificial avanzada para la ciencia de datos II </h3>\n",
        "<h3>TC3007C.501</h3>\n",
        "<h3>Profesora - Julio Guillermo Arriaga Blumenkron</h3>\n",
        "<h3>08/11/2024</h3>\n",
        "</center>\n",
        "</font>"
      ],
      "metadata": {
        "id": "psWQ5_hWmepO"
      }
    },
    {
      "cell_type": "markdown",
      "source": [
        "**Introducción**\n",
        "\n",
        "El presente proyecto aborda el problema de predecir el porcentaje de votos demócratas en diferentes regiones de los Estados Unidos utilizando un modelo de aprendizaje profundo. Este tipo de predicción es relevante porque proporciona una herramienta para entender patrones electorales y podría ayudar a anticipar resultados futuros en procesos democráticos. Los patrones de votación están influenciados por factores demográficos, económicos y sociales que pueden ser analizados y modelados matemáticamente. Al desarrollar un modelo que aprende de estos datos, se exploran las complejas relaciones entre estas variables y su impacto en los resultados electorales, lo que podría ser de interés tanto para científicos de datos como para analistas políticos.\n"
      ],
      "metadata": {
        "id": "lQ-UZKyBmgkJ"
      }
    },
    {
      "cell_type": "code",
      "source": [
        "!pip install tensorflow\n",
        "!pip install scikit-learn"
      ],
      "metadata": {
        "collapsed": true,
        "colab": {
          "base_uri": "https://localhost:8080/"
        },
        "id": "2FOHTYLgkUwi",
        "outputId": "251dc9b0-9a37-4b53-ed06-a19318e2739a"
      },
      "execution_count": null,
      "outputs": [
        {
          "output_type": "stream",
          "name": "stdout",
          "text": [
            "Requirement already satisfied: tensorflow in /usr/local/lib/python3.10/dist-packages (2.17.1)\n",
            "Requirement already satisfied: absl-py>=1.0.0 in /usr/local/lib/python3.10/dist-packages (from tensorflow) (1.4.0)\n",
            "Requirement already satisfied: astunparse>=1.6.0 in /usr/local/lib/python3.10/dist-packages (from tensorflow) (1.6.3)\n",
            "Requirement already satisfied: flatbuffers>=24.3.25 in /usr/local/lib/python3.10/dist-packages (from tensorflow) (24.3.25)\n",
            "Requirement already satisfied: gast!=0.5.0,!=0.5.1,!=0.5.2,>=0.2.1 in /usr/local/lib/python3.10/dist-packages (from tensorflow) (0.6.0)\n",
            "Requirement already satisfied: google-pasta>=0.1.1 in /usr/local/lib/python3.10/dist-packages (from tensorflow) (0.2.0)\n",
            "Requirement already satisfied: h5py>=3.10.0 in /usr/local/lib/python3.10/dist-packages (from tensorflow) (3.12.1)\n",
            "Requirement already satisfied: libclang>=13.0.0 in /usr/local/lib/python3.10/dist-packages (from tensorflow) (18.1.1)\n",
            "Requirement already satisfied: ml-dtypes<0.5.0,>=0.3.1 in /usr/local/lib/python3.10/dist-packages (from tensorflow) (0.4.1)\n",
            "Requirement already satisfied: opt-einsum>=2.3.2 in /usr/local/lib/python3.10/dist-packages (from tensorflow) (3.4.0)\n",
            "Requirement already satisfied: packaging in /usr/local/lib/python3.10/dist-packages (from tensorflow) (24.2)\n",
            "Requirement already satisfied: protobuf!=4.21.0,!=4.21.1,!=4.21.2,!=4.21.3,!=4.21.4,!=4.21.5,<5.0.0dev,>=3.20.3 in /usr/local/lib/python3.10/dist-packages (from tensorflow) (4.25.5)\n",
            "Requirement already satisfied: requests<3,>=2.21.0 in /usr/local/lib/python3.10/dist-packages (from tensorflow) (2.32.3)\n",
            "Requirement already satisfied: setuptools in /usr/local/lib/python3.10/dist-packages (from tensorflow) (75.1.0)\n",
            "Requirement already satisfied: six>=1.12.0 in /usr/local/lib/python3.10/dist-packages (from tensorflow) (1.16.0)\n",
            "Requirement already satisfied: termcolor>=1.1.0 in /usr/local/lib/python3.10/dist-packages (from tensorflow) (2.5.0)\n",
            "Requirement already satisfied: typing-extensions>=3.6.6 in /usr/local/lib/python3.10/dist-packages (from tensorflow) (4.12.2)\n",
            "Requirement already satisfied: wrapt>=1.11.0 in /usr/local/lib/python3.10/dist-packages (from tensorflow) (1.16.0)\n",
            "Requirement already satisfied: grpcio<2.0,>=1.24.3 in /usr/local/lib/python3.10/dist-packages (from tensorflow) (1.68.0)\n",
            "Requirement already satisfied: tensorboard<2.18,>=2.17 in /usr/local/lib/python3.10/dist-packages (from tensorflow) (2.17.1)\n",
            "Requirement already satisfied: keras>=3.2.0 in /usr/local/lib/python3.10/dist-packages (from tensorflow) (3.5.0)\n",
            "Requirement already satisfied: tensorflow-io-gcs-filesystem>=0.23.1 in /usr/local/lib/python3.10/dist-packages (from tensorflow) (0.37.1)\n",
            "Requirement already satisfied: numpy<2.0.0,>=1.23.5 in /usr/local/lib/python3.10/dist-packages (from tensorflow) (1.26.4)\n",
            "Requirement already satisfied: wheel<1.0,>=0.23.0 in /usr/local/lib/python3.10/dist-packages (from astunparse>=1.6.0->tensorflow) (0.45.0)\n",
            "Requirement already satisfied: rich in /usr/local/lib/python3.10/dist-packages (from keras>=3.2.0->tensorflow) (13.9.4)\n",
            "Requirement already satisfied: namex in /usr/local/lib/python3.10/dist-packages (from keras>=3.2.0->tensorflow) (0.0.8)\n",
            "Requirement already satisfied: optree in /usr/local/lib/python3.10/dist-packages (from keras>=3.2.0->tensorflow) (0.13.1)\n",
            "Requirement already satisfied: charset-normalizer<4,>=2 in /usr/local/lib/python3.10/dist-packages (from requests<3,>=2.21.0->tensorflow) (3.4.0)\n",
            "Requirement already satisfied: idna<4,>=2.5 in /usr/local/lib/python3.10/dist-packages (from requests<3,>=2.21.0->tensorflow) (3.10)\n",
            "Requirement already satisfied: urllib3<3,>=1.21.1 in /usr/local/lib/python3.10/dist-packages (from requests<3,>=2.21.0->tensorflow) (2.2.3)\n",
            "Requirement already satisfied: certifi>=2017.4.17 in /usr/local/lib/python3.10/dist-packages (from requests<3,>=2.21.0->tensorflow) (2024.8.30)\n",
            "Requirement already satisfied: markdown>=2.6.8 in /usr/local/lib/python3.10/dist-packages (from tensorboard<2.18,>=2.17->tensorflow) (3.7)\n",
            "Requirement already satisfied: tensorboard-data-server<0.8.0,>=0.7.0 in /usr/local/lib/python3.10/dist-packages (from tensorboard<2.18,>=2.17->tensorflow) (0.7.2)\n",
            "Requirement already satisfied: werkzeug>=1.0.1 in /usr/local/lib/python3.10/dist-packages (from tensorboard<2.18,>=2.17->tensorflow) (3.1.3)\n",
            "Requirement already satisfied: MarkupSafe>=2.1.1 in /usr/local/lib/python3.10/dist-packages (from werkzeug>=1.0.1->tensorboard<2.18,>=2.17->tensorflow) (3.0.2)\n",
            "Requirement already satisfied: markdown-it-py>=2.2.0 in /usr/local/lib/python3.10/dist-packages (from rich->keras>=3.2.0->tensorflow) (3.0.0)\n",
            "Requirement already satisfied: pygments<3.0.0,>=2.13.0 in /usr/local/lib/python3.10/dist-packages (from rich->keras>=3.2.0->tensorflow) (2.18.0)\n",
            "Requirement already satisfied: mdurl~=0.1 in /usr/local/lib/python3.10/dist-packages (from markdown-it-py>=2.2.0->rich->keras>=3.2.0->tensorflow) (0.1.2)\n",
            "Requirement already satisfied: scikit-learn in /usr/local/lib/python3.10/dist-packages (1.5.2)\n",
            "Requirement already satisfied: numpy>=1.19.5 in /usr/local/lib/python3.10/dist-packages (from scikit-learn) (1.26.4)\n",
            "Requirement already satisfied: scipy>=1.6.0 in /usr/local/lib/python3.10/dist-packages (from scikit-learn) (1.13.1)\n",
            "Requirement already satisfied: joblib>=1.2.0 in /usr/local/lib/python3.10/dist-packages (from scikit-learn) (1.4.2)\n",
            "Requirement already satisfied: threadpoolctl>=3.1.0 in /usr/local/lib/python3.10/dist-packages (from scikit-learn) (3.5.0)\n"
          ]
        }
      ]
    },
    {
      "cell_type": "code",
      "execution_count": null,
      "metadata": {
        "id": "Hl-TXFKji1qC"
      },
      "outputs": [],
      "source": [
        "import pandas as pd\n",
        "import numpy as np\n",
        "from sklearn.model_selection import train_test_split\n",
        "from sklearn.compose import ColumnTransformer\n",
        "from sklearn.pipeline import Pipeline\n",
        "from sklearn.impute import SimpleImputer\n",
        "from sklearn.preprocessing import StandardScaler\n",
        "import tensorflow as tf\n",
        "from tensorflow.keras.models import Sequential\n",
        "from tensorflow.keras.layers import Dense, Dropout, BatchNormalization\n",
        "from tensorflow.keras.callbacks import EarlyStopping, ReduceLROnPlateau, ModelCheckpoint\n",
        "import matplotlib.pyplot as plt\n"
      ]
    },
    {
      "cell_type": "code",
      "source": [
        "from google.colab import files\n",
        "uploaded = files.upload()\n",
        "election_data = pd.read_csv('US_Election_dataset_v1.csv')\n",
        "\n",
        "election_data.head()"
      ],
      "metadata": {
        "colab": {
          "base_uri": "https://localhost:8080/",
          "height": 589
        },
        "id": "FTVaE_gti9JD",
        "outputId": "ec64f365-6c22-4153-a56b-0ff9d7fcff12"
      },
      "execution_count": null,
      "outputs": [
        {
          "output_type": "display_data",
          "data": {
            "text/plain": [
              "<IPython.core.display.HTML object>"
            ],
            "text/html": [
              "\n",
              "     <input type=\"file\" id=\"files-912f050c-21b7-4671-a6ab-64a00b0ab8eb\" name=\"files[]\" multiple disabled\n",
              "        style=\"border:none\" />\n",
              "     <output id=\"result-912f050c-21b7-4671-a6ab-64a00b0ab8eb\">\n",
              "      Upload widget is only available when the cell has been executed in the\n",
              "      current browser session. Please rerun this cell to enable.\n",
              "      </output>\n",
              "      <script>// Copyright 2017 Google LLC\n",
              "//\n",
              "// Licensed under the Apache License, Version 2.0 (the \"License\");\n",
              "// you may not use this file except in compliance with the License.\n",
              "// You may obtain a copy of the License at\n",
              "//\n",
              "//      http://www.apache.org/licenses/LICENSE-2.0\n",
              "//\n",
              "// Unless required by applicable law or agreed to in writing, software\n",
              "// distributed under the License is distributed on an \"AS IS\" BASIS,\n",
              "// WITHOUT WARRANTIES OR CONDITIONS OF ANY KIND, either express or implied.\n",
              "// See the License for the specific language governing permissions and\n",
              "// limitations under the License.\n",
              "\n",
              "/**\n",
              " * @fileoverview Helpers for google.colab Python module.\n",
              " */\n",
              "(function(scope) {\n",
              "function span(text, styleAttributes = {}) {\n",
              "  const element = document.createElement('span');\n",
              "  element.textContent = text;\n",
              "  for (const key of Object.keys(styleAttributes)) {\n",
              "    element.style[key] = styleAttributes[key];\n",
              "  }\n",
              "  return element;\n",
              "}\n",
              "\n",
              "// Max number of bytes which will be uploaded at a time.\n",
              "const MAX_PAYLOAD_SIZE = 100 * 1024;\n",
              "\n",
              "function _uploadFiles(inputId, outputId) {\n",
              "  const steps = uploadFilesStep(inputId, outputId);\n",
              "  const outputElement = document.getElementById(outputId);\n",
              "  // Cache steps on the outputElement to make it available for the next call\n",
              "  // to uploadFilesContinue from Python.\n",
              "  outputElement.steps = steps;\n",
              "\n",
              "  return _uploadFilesContinue(outputId);\n",
              "}\n",
              "\n",
              "// This is roughly an async generator (not supported in the browser yet),\n",
              "// where there are multiple asynchronous steps and the Python side is going\n",
              "// to poll for completion of each step.\n",
              "// This uses a Promise to block the python side on completion of each step,\n",
              "// then passes the result of the previous step as the input to the next step.\n",
              "function _uploadFilesContinue(outputId) {\n",
              "  const outputElement = document.getElementById(outputId);\n",
              "  const steps = outputElement.steps;\n",
              "\n",
              "  const next = steps.next(outputElement.lastPromiseValue);\n",
              "  return Promise.resolve(next.value.promise).then((value) => {\n",
              "    // Cache the last promise value to make it available to the next\n",
              "    // step of the generator.\n",
              "    outputElement.lastPromiseValue = value;\n",
              "    return next.value.response;\n",
              "  });\n",
              "}\n",
              "\n",
              "/**\n",
              " * Generator function which is called between each async step of the upload\n",
              " * process.\n",
              " * @param {string} inputId Element ID of the input file picker element.\n",
              " * @param {string} outputId Element ID of the output display.\n",
              " * @return {!Iterable<!Object>} Iterable of next steps.\n",
              " */\n",
              "function* uploadFilesStep(inputId, outputId) {\n",
              "  const inputElement = document.getElementById(inputId);\n",
              "  inputElement.disabled = false;\n",
              "\n",
              "  const outputElement = document.getElementById(outputId);\n",
              "  outputElement.innerHTML = '';\n",
              "\n",
              "  const pickedPromise = new Promise((resolve) => {\n",
              "    inputElement.addEventListener('change', (e) => {\n",
              "      resolve(e.target.files);\n",
              "    });\n",
              "  });\n",
              "\n",
              "  const cancel = document.createElement('button');\n",
              "  inputElement.parentElement.appendChild(cancel);\n",
              "  cancel.textContent = 'Cancel upload';\n",
              "  const cancelPromise = new Promise((resolve) => {\n",
              "    cancel.onclick = () => {\n",
              "      resolve(null);\n",
              "    };\n",
              "  });\n",
              "\n",
              "  // Wait for the user to pick the files.\n",
              "  const files = yield {\n",
              "    promise: Promise.race([pickedPromise, cancelPromise]),\n",
              "    response: {\n",
              "      action: 'starting',\n",
              "    }\n",
              "  };\n",
              "\n",
              "  cancel.remove();\n",
              "\n",
              "  // Disable the input element since further picks are not allowed.\n",
              "  inputElement.disabled = true;\n",
              "\n",
              "  if (!files) {\n",
              "    return {\n",
              "      response: {\n",
              "        action: 'complete',\n",
              "      }\n",
              "    };\n",
              "  }\n",
              "\n",
              "  for (const file of files) {\n",
              "    const li = document.createElement('li');\n",
              "    li.append(span(file.name, {fontWeight: 'bold'}));\n",
              "    li.append(span(\n",
              "        `(${file.type || 'n/a'}) - ${file.size} bytes, ` +\n",
              "        `last modified: ${\n",
              "            file.lastModifiedDate ? file.lastModifiedDate.toLocaleDateString() :\n",
              "                                    'n/a'} - `));\n",
              "    const percent = span('0% done');\n",
              "    li.appendChild(percent);\n",
              "\n",
              "    outputElement.appendChild(li);\n",
              "\n",
              "    const fileDataPromise = new Promise((resolve) => {\n",
              "      const reader = new FileReader();\n",
              "      reader.onload = (e) => {\n",
              "        resolve(e.target.result);\n",
              "      };\n",
              "      reader.readAsArrayBuffer(file);\n",
              "    });\n",
              "    // Wait for the data to be ready.\n",
              "    let fileData = yield {\n",
              "      promise: fileDataPromise,\n",
              "      response: {\n",
              "        action: 'continue',\n",
              "      }\n",
              "    };\n",
              "\n",
              "    // Use a chunked sending to avoid message size limits. See b/62115660.\n",
              "    let position = 0;\n",
              "    do {\n",
              "      const length = Math.min(fileData.byteLength - position, MAX_PAYLOAD_SIZE);\n",
              "      const chunk = new Uint8Array(fileData, position, length);\n",
              "      position += length;\n",
              "\n",
              "      const base64 = btoa(String.fromCharCode.apply(null, chunk));\n",
              "      yield {\n",
              "        response: {\n",
              "          action: 'append',\n",
              "          file: file.name,\n",
              "          data: base64,\n",
              "        },\n",
              "      };\n",
              "\n",
              "      let percentDone = fileData.byteLength === 0 ?\n",
              "          100 :\n",
              "          Math.round((position / fileData.byteLength) * 100);\n",
              "      percent.textContent = `${percentDone}% done`;\n",
              "\n",
              "    } while (position < fileData.byteLength);\n",
              "  }\n",
              "\n",
              "  // All done.\n",
              "  yield {\n",
              "    response: {\n",
              "      action: 'complete',\n",
              "    }\n",
              "  };\n",
              "}\n",
              "\n",
              "scope.google = scope.google || {};\n",
              "scope.google.colab = scope.google.colab || {};\n",
              "scope.google.colab._files = {\n",
              "  _uploadFiles,\n",
              "  _uploadFilesContinue,\n",
              "};\n",
              "})(self);\n",
              "</script> "
            ]
          },
          "metadata": {}
        },
        {
          "output_type": "stream",
          "name": "stdout",
          "text": [
            "Saving US_Election_dataset_v1.csv to US_Election_dataset_v1.csv\n"
          ]
        },
        {
          "output_type": "execute_result",
          "data": {
            "text/plain": [
              "                Unnamed: 0          county    state  2020 Democrat vote raw  \\\n",
              "0  Autauga County, Alabama  Autauga County  Alabama                    7503   \n",
              "1  Baldwin County, Alabama  Baldwin County  Alabama                   24578   \n",
              "2  Barbour County, Alabama  Barbour County  Alabama                    4816   \n",
              "3     Bibb County, Alabama     Bibb County  Alabama                    1986   \n",
              "4   Blount County, Alabama   Blount County  Alabama                    2640   \n",
              "\n",
              "   2020 Democrat vote %  2020 Republican vote raw  2020 Republican vote %  \\\n",
              "0                 27.02                     19838                   71.44   \n",
              "1                 22.41                     83544                   76.17   \n",
              "2                 45.79                      5622                   53.45   \n",
              "3                 20.70                      7525                   78.43   \n",
              "4                  9.57                     24711                   89.57   \n",
              "\n",
              "   2020 other vote raw  2020 other vote %  \\\n",
              "0                  429               1.54   \n",
              "1                 1557               1.42   \n",
              "2                   80               0.76   \n",
              "3                   84               0.88   \n",
              "4                  237               0.86   \n",
              "\n",
              "  Population with less than 9th grade education  ...  \\\n",
              "0                                         1.70%  ...   \n",
              "1                                         2.00%  ...   \n",
              "2                                         7.30%  ...   \n",
              "3                                         6.40%  ...   \n",
              "4                                         7.10%  ...   \n",
              "\n",
              "  NH-American Indian and Alaska Native percentage NH-Asian percentage  \\\n",
              "0                                            0.31                1.48   \n",
              "1                                            0.56                0.88   \n",
              "2                                            0.23                0.41   \n",
              "3                                            0.17                0.12   \n",
              "4                                            0.32                0.29   \n",
              "\n",
              "  NH-Native Hawaiian and Other Pacific Islander percentage  \\\n",
              "0                                               0.04         \n",
              "1                                               0.05         \n",
              "2                                               0.00         \n",
              "3                                               0.04         \n",
              "4                                               0.02         \n",
              "\n",
              "  NH-Some Other Race percentage NH-Two or More Races percentage  \\\n",
              "0                          0.31                            4.23   \n",
              "1                          0.33                            4.47   \n",
              "2                          0.25                            2.19   \n",
              "3                          0.21                            2.69   \n",
              "4                          0.17                            3.89   \n",
              "\n",
              "  Percentage engaged in Management, business, science, and arts occupations  \\\n",
              "0                                              36.39                          \n",
              "1                                              35.62                          \n",
              "2                                              27.73                          \n",
              "3                                              22.22                          \n",
              "4                                              26.75                          \n",
              "\n",
              "   Percentage engaged in Service Occupations  \\\n",
              "0                                      14.24   \n",
              "1                                      17.14   \n",
              "2                                      20.16   \n",
              "3                                      15.32   \n",
              "4                                      12.98   \n",
              "\n",
              "  Percentage engaged in Sales and Office  \\\n",
              "0                                  22.02   \n",
              "1                                  24.20   \n",
              "2                                  19.49   \n",
              "3                                  20.57   \n",
              "4                                  22.73   \n",
              "\n",
              "  Percentage engaged in Resources and Construction  \\\n",
              "0                                             9.99   \n",
              "1                                             9.91   \n",
              "2                                            12.53   \n",
              "3                                            16.43   \n",
              "4                                            15.81   \n",
              "\n",
              "   Percentage engaged in Transportation  \n",
              "0                                 17.36  \n",
              "1                                 13.13  \n",
              "2                                 20.09  \n",
              "3                                 25.47  \n",
              "4                                 21.73  \n",
              "\n",
              "[5 rows x 35 columns]"
            ],
            "text/html": [
              "\n",
              "  <div id=\"df-9e1402c0-408b-4b89-9600-59115d570175\" class=\"colab-df-container\">\n",
              "    <div>\n",
              "<style scoped>\n",
              "    .dataframe tbody tr th:only-of-type {\n",
              "        vertical-align: middle;\n",
              "    }\n",
              "\n",
              "    .dataframe tbody tr th {\n",
              "        vertical-align: top;\n",
              "    }\n",
              "\n",
              "    .dataframe thead th {\n",
              "        text-align: right;\n",
              "    }\n",
              "</style>\n",
              "<table border=\"1\" class=\"dataframe\">\n",
              "  <thead>\n",
              "    <tr style=\"text-align: right;\">\n",
              "      <th></th>\n",
              "      <th>Unnamed: 0</th>\n",
              "      <th>county</th>\n",
              "      <th>state</th>\n",
              "      <th>2020 Democrat vote raw</th>\n",
              "      <th>2020 Democrat vote %</th>\n",
              "      <th>2020 Republican vote raw</th>\n",
              "      <th>2020 Republican vote %</th>\n",
              "      <th>2020 other vote raw</th>\n",
              "      <th>2020 other vote %</th>\n",
              "      <th>Population with less than 9th grade education</th>\n",
              "      <th>...</th>\n",
              "      <th>NH-American Indian and Alaska Native percentage</th>\n",
              "      <th>NH-Asian percentage</th>\n",
              "      <th>NH-Native Hawaiian and Other Pacific Islander percentage</th>\n",
              "      <th>NH-Some Other Race percentage</th>\n",
              "      <th>NH-Two or More Races percentage</th>\n",
              "      <th>Percentage engaged in Management, business, science, and arts occupations</th>\n",
              "      <th>Percentage engaged in Service Occupations</th>\n",
              "      <th>Percentage engaged in Sales and Office</th>\n",
              "      <th>Percentage engaged in Resources and Construction</th>\n",
              "      <th>Percentage engaged in Transportation</th>\n",
              "    </tr>\n",
              "  </thead>\n",
              "  <tbody>\n",
              "    <tr>\n",
              "      <th>0</th>\n",
              "      <td>Autauga County, Alabama</td>\n",
              "      <td>Autauga County</td>\n",
              "      <td>Alabama</td>\n",
              "      <td>7503</td>\n",
              "      <td>27.02</td>\n",
              "      <td>19838</td>\n",
              "      <td>71.44</td>\n",
              "      <td>429</td>\n",
              "      <td>1.54</td>\n",
              "      <td>1.70%</td>\n",
              "      <td>...</td>\n",
              "      <td>0.31</td>\n",
              "      <td>1.48</td>\n",
              "      <td>0.04</td>\n",
              "      <td>0.31</td>\n",
              "      <td>4.23</td>\n",
              "      <td>36.39</td>\n",
              "      <td>14.24</td>\n",
              "      <td>22.02</td>\n",
              "      <td>9.99</td>\n",
              "      <td>17.36</td>\n",
              "    </tr>\n",
              "    <tr>\n",
              "      <th>1</th>\n",
              "      <td>Baldwin County, Alabama</td>\n",
              "      <td>Baldwin County</td>\n",
              "      <td>Alabama</td>\n",
              "      <td>24578</td>\n",
              "      <td>22.41</td>\n",
              "      <td>83544</td>\n",
              "      <td>76.17</td>\n",
              "      <td>1557</td>\n",
              "      <td>1.42</td>\n",
              "      <td>2.00%</td>\n",
              "      <td>...</td>\n",
              "      <td>0.56</td>\n",
              "      <td>0.88</td>\n",
              "      <td>0.05</td>\n",
              "      <td>0.33</td>\n",
              "      <td>4.47</td>\n",
              "      <td>35.62</td>\n",
              "      <td>17.14</td>\n",
              "      <td>24.20</td>\n",
              "      <td>9.91</td>\n",
              "      <td>13.13</td>\n",
              "    </tr>\n",
              "    <tr>\n",
              "      <th>2</th>\n",
              "      <td>Barbour County, Alabama</td>\n",
              "      <td>Barbour County</td>\n",
              "      <td>Alabama</td>\n",
              "      <td>4816</td>\n",
              "      <td>45.79</td>\n",
              "      <td>5622</td>\n",
              "      <td>53.45</td>\n",
              "      <td>80</td>\n",
              "      <td>0.76</td>\n",
              "      <td>7.30%</td>\n",
              "      <td>...</td>\n",
              "      <td>0.23</td>\n",
              "      <td>0.41</td>\n",
              "      <td>0.00</td>\n",
              "      <td>0.25</td>\n",
              "      <td>2.19</td>\n",
              "      <td>27.73</td>\n",
              "      <td>20.16</td>\n",
              "      <td>19.49</td>\n",
              "      <td>12.53</td>\n",
              "      <td>20.09</td>\n",
              "    </tr>\n",
              "    <tr>\n",
              "      <th>3</th>\n",
              "      <td>Bibb County, Alabama</td>\n",
              "      <td>Bibb County</td>\n",
              "      <td>Alabama</td>\n",
              "      <td>1986</td>\n",
              "      <td>20.70</td>\n",
              "      <td>7525</td>\n",
              "      <td>78.43</td>\n",
              "      <td>84</td>\n",
              "      <td>0.88</td>\n",
              "      <td>6.40%</td>\n",
              "      <td>...</td>\n",
              "      <td>0.17</td>\n",
              "      <td>0.12</td>\n",
              "      <td>0.04</td>\n",
              "      <td>0.21</td>\n",
              "      <td>2.69</td>\n",
              "      <td>22.22</td>\n",
              "      <td>15.32</td>\n",
              "      <td>20.57</td>\n",
              "      <td>16.43</td>\n",
              "      <td>25.47</td>\n",
              "    </tr>\n",
              "    <tr>\n",
              "      <th>4</th>\n",
              "      <td>Blount County, Alabama</td>\n",
              "      <td>Blount County</td>\n",
              "      <td>Alabama</td>\n",
              "      <td>2640</td>\n",
              "      <td>9.57</td>\n",
              "      <td>24711</td>\n",
              "      <td>89.57</td>\n",
              "      <td>237</td>\n",
              "      <td>0.86</td>\n",
              "      <td>7.10%</td>\n",
              "      <td>...</td>\n",
              "      <td>0.32</td>\n",
              "      <td>0.29</td>\n",
              "      <td>0.02</td>\n",
              "      <td>0.17</td>\n",
              "      <td>3.89</td>\n",
              "      <td>26.75</td>\n",
              "      <td>12.98</td>\n",
              "      <td>22.73</td>\n",
              "      <td>15.81</td>\n",
              "      <td>21.73</td>\n",
              "    </tr>\n",
              "  </tbody>\n",
              "</table>\n",
              "<p>5 rows × 35 columns</p>\n",
              "</div>\n",
              "    <div class=\"colab-df-buttons\">\n",
              "\n",
              "  <div class=\"colab-df-container\">\n",
              "    <button class=\"colab-df-convert\" onclick=\"convertToInteractive('df-9e1402c0-408b-4b89-9600-59115d570175')\"\n",
              "            title=\"Convert this dataframe to an interactive table.\"\n",
              "            style=\"display:none;\">\n",
              "\n",
              "  <svg xmlns=\"http://www.w3.org/2000/svg\" height=\"24px\" viewBox=\"0 -960 960 960\">\n",
              "    <path d=\"M120-120v-720h720v720H120Zm60-500h600v-160H180v160Zm220 220h160v-160H400v160Zm0 220h160v-160H400v160ZM180-400h160v-160H180v160Zm440 0h160v-160H620v160ZM180-180h160v-160H180v160Zm440 0h160v-160H620v160Z\"/>\n",
              "  </svg>\n",
              "    </button>\n",
              "\n",
              "  <style>\n",
              "    .colab-df-container {\n",
              "      display:flex;\n",
              "      gap: 12px;\n",
              "    }\n",
              "\n",
              "    .colab-df-convert {\n",
              "      background-color: #E8F0FE;\n",
              "      border: none;\n",
              "      border-radius: 50%;\n",
              "      cursor: pointer;\n",
              "      display: none;\n",
              "      fill: #1967D2;\n",
              "      height: 32px;\n",
              "      padding: 0 0 0 0;\n",
              "      width: 32px;\n",
              "    }\n",
              "\n",
              "    .colab-df-convert:hover {\n",
              "      background-color: #E2EBFA;\n",
              "      box-shadow: 0px 1px 2px rgba(60, 64, 67, 0.3), 0px 1px 3px 1px rgba(60, 64, 67, 0.15);\n",
              "      fill: #174EA6;\n",
              "    }\n",
              "\n",
              "    .colab-df-buttons div {\n",
              "      margin-bottom: 4px;\n",
              "    }\n",
              "\n",
              "    [theme=dark] .colab-df-convert {\n",
              "      background-color: #3B4455;\n",
              "      fill: #D2E3FC;\n",
              "    }\n",
              "\n",
              "    [theme=dark] .colab-df-convert:hover {\n",
              "      background-color: #434B5C;\n",
              "      box-shadow: 0px 1px 3px 1px rgba(0, 0, 0, 0.15);\n",
              "      filter: drop-shadow(0px 1px 2px rgba(0, 0, 0, 0.3));\n",
              "      fill: #FFFFFF;\n",
              "    }\n",
              "  </style>\n",
              "\n",
              "    <script>\n",
              "      const buttonEl =\n",
              "        document.querySelector('#df-9e1402c0-408b-4b89-9600-59115d570175 button.colab-df-convert');\n",
              "      buttonEl.style.display =\n",
              "        google.colab.kernel.accessAllowed ? 'block' : 'none';\n",
              "\n",
              "      async function convertToInteractive(key) {\n",
              "        const element = document.querySelector('#df-9e1402c0-408b-4b89-9600-59115d570175');\n",
              "        const dataTable =\n",
              "          await google.colab.kernel.invokeFunction('convertToInteractive',\n",
              "                                                    [key], {});\n",
              "        if (!dataTable) return;\n",
              "\n",
              "        const docLinkHtml = 'Like what you see? Visit the ' +\n",
              "          '<a target=\"_blank\" href=https://colab.research.google.com/notebooks/data_table.ipynb>data table notebook</a>'\n",
              "          + ' to learn more about interactive tables.';\n",
              "        element.innerHTML = '';\n",
              "        dataTable['output_type'] = 'display_data';\n",
              "        await google.colab.output.renderOutput(dataTable, element);\n",
              "        const docLink = document.createElement('div');\n",
              "        docLink.innerHTML = docLinkHtml;\n",
              "        element.appendChild(docLink);\n",
              "      }\n",
              "    </script>\n",
              "  </div>\n",
              "\n",
              "\n",
              "<div id=\"df-471785c5-55d1-4b6e-b7f4-bbe93d9cc671\">\n",
              "  <button class=\"colab-df-quickchart\" onclick=\"quickchart('df-471785c5-55d1-4b6e-b7f4-bbe93d9cc671')\"\n",
              "            title=\"Suggest charts\"\n",
              "            style=\"display:none;\">\n",
              "\n",
              "<svg xmlns=\"http://www.w3.org/2000/svg\" height=\"24px\"viewBox=\"0 0 24 24\"\n",
              "     width=\"24px\">\n",
              "    <g>\n",
              "        <path d=\"M19 3H5c-1.1 0-2 .9-2 2v14c0 1.1.9 2 2 2h14c1.1 0 2-.9 2-2V5c0-1.1-.9-2-2-2zM9 17H7v-7h2v7zm4 0h-2V7h2v10zm4 0h-2v-4h2v4z\"/>\n",
              "    </g>\n",
              "</svg>\n",
              "  </button>\n",
              "\n",
              "<style>\n",
              "  .colab-df-quickchart {\n",
              "      --bg-color: #E8F0FE;\n",
              "      --fill-color: #1967D2;\n",
              "      --hover-bg-color: #E2EBFA;\n",
              "      --hover-fill-color: #174EA6;\n",
              "      --disabled-fill-color: #AAA;\n",
              "      --disabled-bg-color: #DDD;\n",
              "  }\n",
              "\n",
              "  [theme=dark] .colab-df-quickchart {\n",
              "      --bg-color: #3B4455;\n",
              "      --fill-color: #D2E3FC;\n",
              "      --hover-bg-color: #434B5C;\n",
              "      --hover-fill-color: #FFFFFF;\n",
              "      --disabled-bg-color: #3B4455;\n",
              "      --disabled-fill-color: #666;\n",
              "  }\n",
              "\n",
              "  .colab-df-quickchart {\n",
              "    background-color: var(--bg-color);\n",
              "    border: none;\n",
              "    border-radius: 50%;\n",
              "    cursor: pointer;\n",
              "    display: none;\n",
              "    fill: var(--fill-color);\n",
              "    height: 32px;\n",
              "    padding: 0;\n",
              "    width: 32px;\n",
              "  }\n",
              "\n",
              "  .colab-df-quickchart:hover {\n",
              "    background-color: var(--hover-bg-color);\n",
              "    box-shadow: 0 1px 2px rgba(60, 64, 67, 0.3), 0 1px 3px 1px rgba(60, 64, 67, 0.15);\n",
              "    fill: var(--button-hover-fill-color);\n",
              "  }\n",
              "\n",
              "  .colab-df-quickchart-complete:disabled,\n",
              "  .colab-df-quickchart-complete:disabled:hover {\n",
              "    background-color: var(--disabled-bg-color);\n",
              "    fill: var(--disabled-fill-color);\n",
              "    box-shadow: none;\n",
              "  }\n",
              "\n",
              "  .colab-df-spinner {\n",
              "    border: 2px solid var(--fill-color);\n",
              "    border-color: transparent;\n",
              "    border-bottom-color: var(--fill-color);\n",
              "    animation:\n",
              "      spin 1s steps(1) infinite;\n",
              "  }\n",
              "\n",
              "  @keyframes spin {\n",
              "    0% {\n",
              "      border-color: transparent;\n",
              "      border-bottom-color: var(--fill-color);\n",
              "      border-left-color: var(--fill-color);\n",
              "    }\n",
              "    20% {\n",
              "      border-color: transparent;\n",
              "      border-left-color: var(--fill-color);\n",
              "      border-top-color: var(--fill-color);\n",
              "    }\n",
              "    30% {\n",
              "      border-color: transparent;\n",
              "      border-left-color: var(--fill-color);\n",
              "      border-top-color: var(--fill-color);\n",
              "      border-right-color: var(--fill-color);\n",
              "    }\n",
              "    40% {\n",
              "      border-color: transparent;\n",
              "      border-right-color: var(--fill-color);\n",
              "      border-top-color: var(--fill-color);\n",
              "    }\n",
              "    60% {\n",
              "      border-color: transparent;\n",
              "      border-right-color: var(--fill-color);\n",
              "    }\n",
              "    80% {\n",
              "      border-color: transparent;\n",
              "      border-right-color: var(--fill-color);\n",
              "      border-bottom-color: var(--fill-color);\n",
              "    }\n",
              "    90% {\n",
              "      border-color: transparent;\n",
              "      border-bottom-color: var(--fill-color);\n",
              "    }\n",
              "  }\n",
              "</style>\n",
              "\n",
              "  <script>\n",
              "    async function quickchart(key) {\n",
              "      const quickchartButtonEl =\n",
              "        document.querySelector('#' + key + ' button');\n",
              "      quickchartButtonEl.disabled = true;  // To prevent multiple clicks.\n",
              "      quickchartButtonEl.classList.add('colab-df-spinner');\n",
              "      try {\n",
              "        const charts = await google.colab.kernel.invokeFunction(\n",
              "            'suggestCharts', [key], {});\n",
              "      } catch (error) {\n",
              "        console.error('Error during call to suggestCharts:', error);\n",
              "      }\n",
              "      quickchartButtonEl.classList.remove('colab-df-spinner');\n",
              "      quickchartButtonEl.classList.add('colab-df-quickchart-complete');\n",
              "    }\n",
              "    (() => {\n",
              "      let quickchartButtonEl =\n",
              "        document.querySelector('#df-471785c5-55d1-4b6e-b7f4-bbe93d9cc671 button');\n",
              "      quickchartButtonEl.style.display =\n",
              "        google.colab.kernel.accessAllowed ? 'block' : 'none';\n",
              "    })();\n",
              "  </script>\n",
              "</div>\n",
              "\n",
              "    </div>\n",
              "  </div>\n"
            ],
            "application/vnd.google.colaboratory.intrinsic+json": {
              "type": "dataframe",
              "variable_name": "election_data"
            }
          },
          "metadata": {},
          "execution_count": 3
        }
      ]
    },
    {
      "cell_type": "markdown",
      "source": [
        "**Datos**\n",
        "\n",
        "Los datos utilizados en este proyecto fueron obtenidos de Kaggle (essarabi, 2020) y corresponden a un conjunto de datos con información detallada sobre características demográficas, económicas y resultados electorales en distintas regiones de Estados Unidos. Este conjunto de datos incluye columnas con la proporción de votos demócratas, republicanos y de otros partidos, así como variables demográficas que incluyen niveles de educación, ingresos medios y ocupaciones, entre otras.\n",
        "\n"
      ],
      "metadata": {
        "id": "fxLaoAKnEuai"
      }
    },
    {
      "cell_type": "code",
      "source": [
        "print(election_data.columns)"
      ],
      "metadata": {
        "colab": {
          "base_uri": "https://localhost:8080/"
        },
        "id": "FJkN4BqE2lyb",
        "outputId": "7035cfa1-a198-4a4f-a071-66469fd21685"
      },
      "execution_count": null,
      "outputs": [
        {
          "output_type": "stream",
          "name": "stdout",
          "text": [
            "Index(['Unnamed: 0', 'county', 'state', '2020 Democrat vote raw',\n",
            "       '2020 Democrat vote %', '2020 Republican vote raw',\n",
            "       '2020 Republican vote %', '2020 other vote raw', '2020 other vote %',\n",
            "       'Population with less than 9th grade education',\n",
            "       'Population with 9th to 12th grade education, no diploma',\n",
            "       'High School graduate and equivalent', 'Some College,No Degree',\n",
            "       'Associates Degree', 'Bachelors Degree',\n",
            "       'Graduate or professional degree', 'Gini Index',\n",
            "       'Median income (dollars)', 'Mean income (dollars)', 'Area in square Km',\n",
            "       'Density per square km', 'Total Population',\n",
            "       'Hispanic or Latino percentage', 'NH-White percentage',\n",
            "       'NH-Black percentage',\n",
            "       'NH-American Indian and Alaska Native percentage',\n",
            "       'NH-Asian percentage',\n",
            "       'NH-Native Hawaiian and Other Pacific Islander percentage',\n",
            "       'NH-Some Other Race percentage', 'NH-Two or More Races percentage',\n",
            "       'Percentage engaged in Management, business, science, and arts occupations',\n",
            "       'Percentage engaged in Service Occupations',\n",
            "       'Percentage engaged in Sales and Office',\n",
            "       'Percentage engaged in Resources and Construction',\n",
            "       'Percentage engaged in Transportation'],\n",
            "      dtype='object')\n"
          ]
        }
      ]
    },
    {
      "cell_type": "markdown",
      "source": [
        "**Análisis y Preprocesamiento de los Datos**\n",
        "\n",
        "Se realizó un análisis exploratorio detallado para garantizar que los datos estuvieran en un formato adecuado para el modelo. Durante este proceso, se identificaron valores nulos en algunas columnas numéricas y se implementaron estrategias de imputación, como el reemplazo de valores faltantes por el promedio de cada columna. Esto permitió aprovechar al máximo los datos disponibles sin descartar información valiosa.\n",
        "\n",
        "Asimismo, las columnas categóricas presentes originalmente en el dataset, como state, fueron eliminadas del conjunto de características debido a su irrelevancia directa para la predicción del objetivo y para evitar introducir ruido en el modelo. Las columnas numéricas que contenían caracteres no numéricos (como comas o signos de porcentaje) fueron limpiadas para garantizar su correcta interpretación como valores continuos. Esta limpieza incluyó la conversión a formato numérico, reemplazando valores inválidos por NaN y aplicando imputación cuando fue necesario.\n",
        "\n",
        "Además, todas las columnas relacionadas directamente con el valor objetivo (por ejemplo, \"2020 Democrat vote raw\", \"2020 Republican vote %\") fueron eliminadas del conjunto de características para evitar una filtración de información que comprometiera la integridad de las predicciones. Esta medida asegura que el modelo solo utilice datos disponibles previamente al evento que se desea predecir."
      ],
      "metadata": {
        "id": "k466LUh-FEwF"
      }
    },
    {
      "cell_type": "code",
      "source": [
        "columns_to_remove = [\n",
        "    '2020 Democrat vote raw',\n",
        "    '2020 Democrat vote %',\n",
        "    '2020 Republican vote raw',\n",
        "    '2020 Republican vote %',\n",
        "    '2020 other vote raw',\n",
        "    '2020 other vote %',\n",
        "    'Unnamed: 0',\n",
        "    'county',\n",
        "    'state'\n",
        "]"
      ],
      "metadata": {
        "id": "znfZfZtMjEyN"
      },
      "execution_count": null,
      "outputs": []
    },
    {
      "cell_type": "code",
      "source": [
        "target_column = '2020 Democrat vote %'\n",
        "\n",
        "X = election_data.drop(columns=columns_to_remove)\n",
        "y = election_data[target_column]"
      ],
      "metadata": {
        "id": "l1gRXzX9jhUS"
      },
      "execution_count": null,
      "outputs": []
    },
    {
      "cell_type": "code",
      "source": [
        "# Entrenamiento y prueba\n",
        "X_train, X_test, y_train, y_test = train_test_split(X, y, test_size=0.2, random_state=42)\n",
        "\n",
        "# Preprocesamiento\n",
        "numerical_columns = X_train.select_dtypes(include=['int64', 'float64']).columns\n",
        "numerical_preprocessor = Pipeline(steps=[\n",
        "    ('imputer', SimpleImputer(strategy='mean')),\n",
        "    ('scaler', StandardScaler())\n",
        "])\n",
        "preprocessor = ColumnTransformer(transformers=[\n",
        "    ('num', numerical_preprocessor, numerical_columns)\n",
        "])"
      ],
      "metadata": {
        "id": "9TFI9qRNjjXb"
      },
      "execution_count": null,
      "outputs": []
    },
    {
      "cell_type": "code",
      "source": [
        "# Preprocesar\n",
        "X_train_scaled = preprocessor.fit_transform(X_train)\n",
        "X_test_scaled = preprocessor.transform(X_test)\n"
      ],
      "metadata": {
        "id": "jllc6I2WkmRY"
      },
      "execution_count": null,
      "outputs": []
    },
    {
      "cell_type": "markdown",
      "source": [
        "**Desarrollo del Modelo**\n",
        "\n",
        "El modelo implementado es una red neuronal profunda basada en un Perceptrón Multicapa (MLP), diseñada para capturar relaciones complejas entre las características demográficas, económicas y sociales del conjunto de datos. La arquitectura de la red incluye una capa de entrada adaptada al número de características preprocesadas, lo que permite al modelo recibir toda la información relevante tras las transformaciones aplicadas a los datos. Posteriormente, la red cuenta con dos capas ocultas, configuradas con 128 y 64 neuronas respectivamente, cada una con una activación ReLU que facilita el aprendizaje de patrones no lineales en los datos. Estas capas permiten al modelo aprender representaciones jerárquicas y reducir gradualmente la dimensionalidad para evitar el sobreajuste.\n",
        "\n",
        "La capa de salida está compuesta por una única neurona, cuya activación sigmoid restringe los valores predichos al rango [0, 1]. Esto resulta adecuado para predecir el porcentaje de votos demócratas, ya que los valores pueden escalarse al rango [0, 100] para interpretarlos como porcentajes. Esta arquitectura combina flexibilidad y simplicidad, asegurando que el modelo pueda capturar patrones complejos mientras se mantiene eficiente."
      ],
      "metadata": {
        "id": "OAPdvcMeFLqd"
      }
    },
    {
      "cell_type": "code",
      "source": [
        "# Modelo\n",
        "model = Sequential([\n",
        "    Dense(128, activation='relu', input_shape=(X_train_scaled.shape[1],)),\n",
        "    Dropout(0.3),\n",
        "    BatchNormalization(),\n",
        "    Dense(64, activation='relu'),\n",
        "    Dropout(0.3),\n",
        "    Dense(1, activation='sigmoid')\n",
        "])"
      ],
      "metadata": {
        "colab": {
          "base_uri": "https://localhost:8080/"
        },
        "id": "IewowHMMkoFV",
        "outputId": "7e4777f1-814a-43d6-d1f6-e4217c276b6e"
      },
      "execution_count": null,
      "outputs": [
        {
          "output_type": "stream",
          "name": "stderr",
          "text": [
            "/usr/local/lib/python3.10/dist-packages/keras/src/layers/core/dense.py:87: UserWarning: Do not pass an `input_shape`/`input_dim` argument to a layer. When using Sequential models, prefer using an `Input(shape)` object as the first layer in the model instead.\n",
            "  super().__init__(activity_regularizer=activity_regularizer, **kwargs)\n"
          ]
        }
      ]
    },
    {
      "cell_type": "markdown",
      "source": [
        "**Ajuste del Modelo**\n",
        "\n",
        "El modelo fue entrenado utilizando la función de pérdida Error Cuadrático Medio (MSE), que mide la diferencia promedio al cuadrado entre las predicciones y los valores reales. Esta función de pérdida es adecuada para problemas de regresión, ya que penaliza errores grandes de manera más severa. Adicionalmente, se utilizó la métrica Error Absoluto Medio (MAE) para interpretar el desempeño del modelo en términos de la magnitud promedio del error, proporcionando una evaluación más intuitiva de la precisión. El entrenamiento se realizó utilizando el optimizador Adam, conocido por su capacidad para ajustar dinámicamente la tasa de aprendizaje durante el proceso de optimización. Para mejorar la capacidad de generalización del modelo y prevenir el sobreajuste, se implementaron técnicas de regularización como Dropout, que elimina conexiones aleatorias entre neuronas durante el entrenamiento, y BatchNormalization, que estabiliza la distribución de los datos a cada capa, acelerando el aprendizaje.\n",
        "\n",
        "El modelo fue entrenado durante un máximo de 100 épocas, con un tamaño de lote (batch_size) de 32 muestras. Se incorporaron técnicas avanzadas para optimizar el proceso de entrenamiento, como EarlyStopping, que detuvo el entrenamiento si la pérdida en el conjunto de validación no mejoraba después de 10 épocas consecutivas, y ReduceLROnPlateau, que redujo la tasa de aprendizaje cuando el progreso del modelo se estancaba. Además, se utilizó ModelCheckpoint para guardar la mejor versión del modelo basado en la pérdida de validación."
      ],
      "metadata": {
        "id": "dn32mpi5FXr6"
      }
    },
    {
      "cell_type": "code",
      "source": [
        "# Compilación del modelo\n",
        "model.compile(optimizer='adam', loss='mse', metrics=['mae'])\n",
        "\n",
        "# Callbacks\n",
        "callbacks = [\n",
        "    EarlyStopping(monitor='val_loss', patience=10, restore_best_weights=True),\n",
        "    ReduceLROnPlateau(monitor='val_loss', factor=0.2, patience=5, min_lr=1e-5),\n",
        "    ModelCheckpoint('best_model.keras', save_best_only=True, monitor='val_loss')\n",
        "]\n",
        "\n",
        "model.summary()"
      ],
      "metadata": {
        "colab": {
          "base_uri": "https://localhost:8080/",
          "height": 337
        },
        "id": "QzGmknC2kqSq",
        "outputId": "b6af8b6d-b396-425e-e1e7-c681e54d4d5b"
      },
      "execution_count": null,
      "outputs": [
        {
          "output_type": "display_data",
          "data": {
            "text/plain": [
              "\u001b[1mModel: \"sequential\"\u001b[0m\n"
            ],
            "text/html": [
              "<pre style=\"white-space:pre;overflow-x:auto;line-height:normal;font-family:Menlo,'DejaVu Sans Mono',consolas,'Courier New',monospace\"><span style=\"font-weight: bold\">Model: \"sequential\"</span>\n",
              "</pre>\n"
            ]
          },
          "metadata": {}
        },
        {
          "output_type": "display_data",
          "data": {
            "text/plain": [
              "┏━━━━━━━━━━━━━━━━━━━━━━━━━━━━━━━━━━━━━━┳━━━━━━━━━━━━━━━━━━━━━━━━━━━━━┳━━━━━━━━━━━━━━━━━┓\n",
              "┃\u001b[1m \u001b[0m\u001b[1mLayer (type)                        \u001b[0m\u001b[1m \u001b[0m┃\u001b[1m \u001b[0m\u001b[1mOutput Shape               \u001b[0m\u001b[1m \u001b[0m┃\u001b[1m \u001b[0m\u001b[1m        Param #\u001b[0m\u001b[1m \u001b[0m┃\n",
              "┡━━━━━━━━━━━━━━━━━━━━━━━━━━━━━━━━━━━━━━╇━━━━━━━━━━━━━━━━━━━━━━━━━━━━━╇━━━━━━━━━━━━━━━━━┩\n",
              "│ dense (\u001b[38;5;33mDense\u001b[0m)                        │ (\u001b[38;5;45mNone\u001b[0m, \u001b[38;5;34m128\u001b[0m)                 │           \u001b[38;5;34m2,304\u001b[0m │\n",
              "├──────────────────────────────────────┼─────────────────────────────┼─────────────────┤\n",
              "│ dropout (\u001b[38;5;33mDropout\u001b[0m)                    │ (\u001b[38;5;45mNone\u001b[0m, \u001b[38;5;34m128\u001b[0m)                 │               \u001b[38;5;34m0\u001b[0m │\n",
              "├──────────────────────────────────────┼─────────────────────────────┼─────────────────┤\n",
              "│ batch_normalization                  │ (\u001b[38;5;45mNone\u001b[0m, \u001b[38;5;34m128\u001b[0m)                 │             \u001b[38;5;34m512\u001b[0m │\n",
              "│ (\u001b[38;5;33mBatchNormalization\u001b[0m)                 │                             │                 │\n",
              "├──────────────────────────────────────┼─────────────────────────────┼─────────────────┤\n",
              "│ dense_1 (\u001b[38;5;33mDense\u001b[0m)                      │ (\u001b[38;5;45mNone\u001b[0m, \u001b[38;5;34m64\u001b[0m)                  │           \u001b[38;5;34m8,256\u001b[0m │\n",
              "├──────────────────────────────────────┼─────────────────────────────┼─────────────────┤\n",
              "│ dropout_1 (\u001b[38;5;33mDropout\u001b[0m)                  │ (\u001b[38;5;45mNone\u001b[0m, \u001b[38;5;34m64\u001b[0m)                  │               \u001b[38;5;34m0\u001b[0m │\n",
              "├──────────────────────────────────────┼─────────────────────────────┼─────────────────┤\n",
              "│ dense_2 (\u001b[38;5;33mDense\u001b[0m)                      │ (\u001b[38;5;45mNone\u001b[0m, \u001b[38;5;34m1\u001b[0m)                   │              \u001b[38;5;34m65\u001b[0m │\n",
              "└──────────────────────────────────────┴─────────────────────────────┴─────────────────┘\n"
            ],
            "text/html": [
              "<pre style=\"white-space:pre;overflow-x:auto;line-height:normal;font-family:Menlo,'DejaVu Sans Mono',consolas,'Courier New',monospace\">┏━━━━━━━━━━━━━━━━━━━━━━━━━━━━━━━━━━━━━━┳━━━━━━━━━━━━━━━━━━━━━━━━━━━━━┳━━━━━━━━━━━━━━━━━┓\n",
              "┃<span style=\"font-weight: bold\"> Layer (type)                         </span>┃<span style=\"font-weight: bold\"> Output Shape                </span>┃<span style=\"font-weight: bold\">         Param # </span>┃\n",
              "┡━━━━━━━━━━━━━━━━━━━━━━━━━━━━━━━━━━━━━━╇━━━━━━━━━━━━━━━━━━━━━━━━━━━━━╇━━━━━━━━━━━━━━━━━┩\n",
              "│ dense (<span style=\"color: #0087ff; text-decoration-color: #0087ff\">Dense</span>)                        │ (<span style=\"color: #00d7ff; text-decoration-color: #00d7ff\">None</span>, <span style=\"color: #00af00; text-decoration-color: #00af00\">128</span>)                 │           <span style=\"color: #00af00; text-decoration-color: #00af00\">2,304</span> │\n",
              "├──────────────────────────────────────┼─────────────────────────────┼─────────────────┤\n",
              "│ dropout (<span style=\"color: #0087ff; text-decoration-color: #0087ff\">Dropout</span>)                    │ (<span style=\"color: #00d7ff; text-decoration-color: #00d7ff\">None</span>, <span style=\"color: #00af00; text-decoration-color: #00af00\">128</span>)                 │               <span style=\"color: #00af00; text-decoration-color: #00af00\">0</span> │\n",
              "├──────────────────────────────────────┼─────────────────────────────┼─────────────────┤\n",
              "│ batch_normalization                  │ (<span style=\"color: #00d7ff; text-decoration-color: #00d7ff\">None</span>, <span style=\"color: #00af00; text-decoration-color: #00af00\">128</span>)                 │             <span style=\"color: #00af00; text-decoration-color: #00af00\">512</span> │\n",
              "│ (<span style=\"color: #0087ff; text-decoration-color: #0087ff\">BatchNormalization</span>)                 │                             │                 │\n",
              "├──────────────────────────────────────┼─────────────────────────────┼─────────────────┤\n",
              "│ dense_1 (<span style=\"color: #0087ff; text-decoration-color: #0087ff\">Dense</span>)                      │ (<span style=\"color: #00d7ff; text-decoration-color: #00d7ff\">None</span>, <span style=\"color: #00af00; text-decoration-color: #00af00\">64</span>)                  │           <span style=\"color: #00af00; text-decoration-color: #00af00\">8,256</span> │\n",
              "├──────────────────────────────────────┼─────────────────────────────┼─────────────────┤\n",
              "│ dropout_1 (<span style=\"color: #0087ff; text-decoration-color: #0087ff\">Dropout</span>)                  │ (<span style=\"color: #00d7ff; text-decoration-color: #00d7ff\">None</span>, <span style=\"color: #00af00; text-decoration-color: #00af00\">64</span>)                  │               <span style=\"color: #00af00; text-decoration-color: #00af00\">0</span> │\n",
              "├──────────────────────────────────────┼─────────────────────────────┼─────────────────┤\n",
              "│ dense_2 (<span style=\"color: #0087ff; text-decoration-color: #0087ff\">Dense</span>)                      │ (<span style=\"color: #00d7ff; text-decoration-color: #00d7ff\">None</span>, <span style=\"color: #00af00; text-decoration-color: #00af00\">1</span>)                   │              <span style=\"color: #00af00; text-decoration-color: #00af00\">65</span> │\n",
              "└──────────────────────────────────────┴─────────────────────────────┴─────────────────┘\n",
              "</pre>\n"
            ]
          },
          "metadata": {}
        },
        {
          "output_type": "display_data",
          "data": {
            "text/plain": [
              "\u001b[1m Total params: \u001b[0m\u001b[38;5;34m11,137\u001b[0m (43.50 KB)\n"
            ],
            "text/html": [
              "<pre style=\"white-space:pre;overflow-x:auto;line-height:normal;font-family:Menlo,'DejaVu Sans Mono',consolas,'Courier New',monospace\"><span style=\"font-weight: bold\"> Total params: </span><span style=\"color: #00af00; text-decoration-color: #00af00\">11,137</span> (43.50 KB)\n",
              "</pre>\n"
            ]
          },
          "metadata": {}
        },
        {
          "output_type": "display_data",
          "data": {
            "text/plain": [
              "\u001b[1m Trainable params: \u001b[0m\u001b[38;5;34m10,881\u001b[0m (42.50 KB)\n"
            ],
            "text/html": [
              "<pre style=\"white-space:pre;overflow-x:auto;line-height:normal;font-family:Menlo,'DejaVu Sans Mono',consolas,'Courier New',monospace\"><span style=\"font-weight: bold\"> Trainable params: </span><span style=\"color: #00af00; text-decoration-color: #00af00\">10,881</span> (42.50 KB)\n",
              "</pre>\n"
            ]
          },
          "metadata": {}
        },
        {
          "output_type": "display_data",
          "data": {
            "text/plain": [
              "\u001b[1m Non-trainable params: \u001b[0m\u001b[38;5;34m256\u001b[0m (1.00 KB)\n"
            ],
            "text/html": [
              "<pre style=\"white-space:pre;overflow-x:auto;line-height:normal;font-family:Menlo,'DejaVu Sans Mono',consolas,'Courier New',monospace\"><span style=\"font-weight: bold\"> Non-trainable params: </span><span style=\"color: #00af00; text-decoration-color: #00af00\">256</span> (1.00 KB)\n",
              "</pre>\n"
            ]
          },
          "metadata": {}
        }
      ]
    },
    {
      "cell_type": "code",
      "source": [
        "history = model.fit(\n",
        "    X_train_scaled, y_train / 100,\n",
        "    validation_data=(X_test_scaled, y_test / 100),\n",
        "    epochs=100,\n",
        "    batch_size=32,\n",
        "    callbacks=callbacks,\n",
        "    verbose=1\n",
        ")"
      ],
      "metadata": {
        "colab": {
          "base_uri": "https://localhost:8080/"
        },
        "id": "aR00qXwmk27Q",
        "outputId": "962392aa-c2b9-42db-a835-04e22dfe7482"
      },
      "execution_count": null,
      "outputs": [
        {
          "output_type": "stream",
          "name": "stdout",
          "text": [
            "Epoch 1/100\n",
            "\u001b[1m79/79\u001b[0m \u001b[32m━━━━━━━━━━━━━━━━━━━━\u001b[0m\u001b[37m\u001b[0m \u001b[1m2s\u001b[0m 7ms/step - loss: 0.0629 - mae: 0.1929 - val_loss: 0.0175 - val_mae: 0.1107 - learning_rate: 0.0010\n",
            "Epoch 2/100\n",
            "\u001b[1m79/79\u001b[0m \u001b[32m━━━━━━━━━━━━━━━━━━━━\u001b[0m\u001b[37m\u001b[0m \u001b[1m1s\u001b[0m 4ms/step - loss: 0.0298 - mae: 0.1326 - val_loss: 0.0129 - val_mae: 0.0933 - learning_rate: 0.0010\n",
            "Epoch 3/100\n",
            "\u001b[1m79/79\u001b[0m \u001b[32m━━━━━━━━━━━━━━━━━━━━\u001b[0m\u001b[37m\u001b[0m \u001b[1m1s\u001b[0m 4ms/step - loss: 0.0222 - mae: 0.1154 - val_loss: 0.0130 - val_mae: 0.0912 - learning_rate: 0.0010\n",
            "Epoch 4/100\n",
            "\u001b[1m79/79\u001b[0m \u001b[32m━━━━━━━━━━━━━━━━━━━━\u001b[0m\u001b[37m\u001b[0m \u001b[1m0s\u001b[0m 4ms/step - loss: 0.0206 - mae: 0.1089 - val_loss: 0.0116 - val_mae: 0.0845 - learning_rate: 0.0010\n",
            "Epoch 5/100\n",
            "\u001b[1m79/79\u001b[0m \u001b[32m━━━━━━━━━━━━━━━━━━━━\u001b[0m\u001b[37m\u001b[0m \u001b[1m0s\u001b[0m 4ms/step - loss: 0.0160 - mae: 0.0971 - val_loss: 0.0109 - val_mae: 0.0821 - learning_rate: 0.0010\n",
            "Epoch 6/100\n",
            "\u001b[1m79/79\u001b[0m \u001b[32m━━━━━━━━━━━━━━━━━━━━\u001b[0m\u001b[37m\u001b[0m \u001b[1m1s\u001b[0m 5ms/step - loss: 0.0142 - mae: 0.0928 - val_loss: 0.0105 - val_mae: 0.0808 - learning_rate: 0.0010\n",
            "Epoch 7/100\n",
            "\u001b[1m79/79\u001b[0m \u001b[32m━━━━━━━━━━━━━━━━━━━━\u001b[0m\u001b[37m\u001b[0m \u001b[1m0s\u001b[0m 4ms/step - loss: 0.0123 - mae: 0.0861 - val_loss: 0.0101 - val_mae: 0.0794 - learning_rate: 0.0010\n",
            "Epoch 8/100\n",
            "\u001b[1m79/79\u001b[0m \u001b[32m━━━━━━━━━━━━━━━━━━━━\u001b[0m\u001b[37m\u001b[0m \u001b[1m0s\u001b[0m 4ms/step - loss: 0.0129 - mae: 0.0874 - val_loss: 0.0104 - val_mae: 0.0804 - learning_rate: 0.0010\n",
            "Epoch 9/100\n",
            "\u001b[1m79/79\u001b[0m \u001b[32m━━━━━━━━━━━━━━━━━━━━\u001b[0m\u001b[37m\u001b[0m \u001b[1m0s\u001b[0m 4ms/step - loss: 0.0115 - mae: 0.0830 - val_loss: 0.0099 - val_mae: 0.0795 - learning_rate: 0.0010\n",
            "Epoch 10/100\n",
            "\u001b[1m79/79\u001b[0m \u001b[32m━━━━━━━━━━━━━━━━━━━━\u001b[0m\u001b[37m\u001b[0m \u001b[1m0s\u001b[0m 4ms/step - loss: 0.0105 - mae: 0.0799 - val_loss: 0.0093 - val_mae: 0.0759 - learning_rate: 0.0010\n",
            "Epoch 11/100\n",
            "\u001b[1m79/79\u001b[0m \u001b[32m━━━━━━━━━━━━━━━━━━━━\u001b[0m\u001b[37m\u001b[0m \u001b[1m0s\u001b[0m 5ms/step - loss: 0.0110 - mae: 0.0831 - val_loss: 0.0094 - val_mae: 0.0773 - learning_rate: 0.0010\n",
            "Epoch 12/100\n",
            "\u001b[1m79/79\u001b[0m \u001b[32m━━━━━━━━━━━━━━━━━━━━\u001b[0m\u001b[37m\u001b[0m \u001b[1m1s\u001b[0m 6ms/step - loss: 0.0099 - mae: 0.0768 - val_loss: 0.0088 - val_mae: 0.0746 - learning_rate: 0.0010\n",
            "Epoch 13/100\n",
            "\u001b[1m79/79\u001b[0m \u001b[32m━━━━━━━━━━━━━━━━━━━━\u001b[0m\u001b[37m\u001b[0m \u001b[1m1s\u001b[0m 5ms/step - loss: 0.0100 - mae: 0.0770 - val_loss: 0.0090 - val_mae: 0.0746 - learning_rate: 0.0010\n",
            "Epoch 14/100\n",
            "\u001b[1m79/79\u001b[0m \u001b[32m━━━━━━━━━━━━━━━━━━━━\u001b[0m\u001b[37m\u001b[0m \u001b[1m1s\u001b[0m 5ms/step - loss: 0.0103 - mae: 0.0790 - val_loss: 0.0089 - val_mae: 0.0751 - learning_rate: 0.0010\n",
            "Epoch 15/100\n",
            "\u001b[1m79/79\u001b[0m \u001b[32m━━━━━━━━━━━━━━━━━━━━\u001b[0m\u001b[37m\u001b[0m \u001b[1m1s\u001b[0m 7ms/step - loss: 0.0095 - mae: 0.0762 - val_loss: 0.0085 - val_mae: 0.0734 - learning_rate: 0.0010\n",
            "Epoch 16/100\n",
            "\u001b[1m79/79\u001b[0m \u001b[32m━━━━━━━━━━━━━━━━━━━━\u001b[0m\u001b[37m\u001b[0m \u001b[1m1s\u001b[0m 6ms/step - loss: 0.0092 - mae: 0.0748 - val_loss: 0.0082 - val_mae: 0.0718 - learning_rate: 0.0010\n",
            "Epoch 17/100\n",
            "\u001b[1m79/79\u001b[0m \u001b[32m━━━━━━━━━━━━━━━━━━━━\u001b[0m\u001b[37m\u001b[0m \u001b[1m0s\u001b[0m 4ms/step - loss: 0.0098 - mae: 0.0765 - val_loss: 0.0079 - val_mae: 0.0703 - learning_rate: 0.0010\n",
            "Epoch 18/100\n",
            "\u001b[1m79/79\u001b[0m \u001b[32m━━━━━━━━━━━━━━━━━━━━\u001b[0m\u001b[37m\u001b[0m \u001b[1m1s\u001b[0m 4ms/step - loss: 0.0102 - mae: 0.0783 - val_loss: 0.0077 - val_mae: 0.0677 - learning_rate: 0.0010\n",
            "Epoch 19/100\n",
            "\u001b[1m79/79\u001b[0m \u001b[32m━━━━━━━━━━━━━━━━━━━━\u001b[0m\u001b[37m\u001b[0m \u001b[1m1s\u001b[0m 3ms/step - loss: 0.0090 - mae: 0.0739 - val_loss: 0.0083 - val_mae: 0.0720 - learning_rate: 0.0010\n",
            "Epoch 20/100\n",
            "\u001b[1m79/79\u001b[0m \u001b[32m━━━━━━━━━━━━━━━━━━━━\u001b[0m\u001b[37m\u001b[0m \u001b[1m0s\u001b[0m 3ms/step - loss: 0.0088 - mae: 0.0728 - val_loss: 0.0084 - val_mae: 0.0721 - learning_rate: 0.0010\n",
            "Epoch 21/100\n",
            "\u001b[1m79/79\u001b[0m \u001b[32m━━━━━━━━━━━━━━━━━━━━\u001b[0m\u001b[37m\u001b[0m \u001b[1m0s\u001b[0m 4ms/step - loss: 0.0092 - mae: 0.0746 - val_loss: 0.0083 - val_mae: 0.0707 - learning_rate: 0.0010\n",
            "Epoch 22/100\n",
            "\u001b[1m79/79\u001b[0m \u001b[32m━━━━━━━━━━━━━━━━━━━━\u001b[0m\u001b[37m\u001b[0m \u001b[1m1s\u001b[0m 3ms/step - loss: 0.0085 - mae: 0.0718 - val_loss: 0.0079 - val_mae: 0.0690 - learning_rate: 0.0010\n",
            "Epoch 23/100\n",
            "\u001b[1m79/79\u001b[0m \u001b[32m━━━━━━━━━━━━━━━━━━━━\u001b[0m\u001b[37m\u001b[0m \u001b[1m0s\u001b[0m 4ms/step - loss: 0.0083 - mae: 0.0707 - val_loss: 0.0082 - val_mae: 0.0706 - learning_rate: 0.0010\n",
            "Epoch 24/100\n",
            "\u001b[1m79/79\u001b[0m \u001b[32m━━━━━━━━━━━━━━━━━━━━\u001b[0m\u001b[37m\u001b[0m \u001b[1m1s\u001b[0m 3ms/step - loss: 0.0090 - mae: 0.0731 - val_loss: 0.0082 - val_mae: 0.0705 - learning_rate: 2.0000e-04\n",
            "Epoch 25/100\n",
            "\u001b[1m79/79\u001b[0m \u001b[32m━━━━━━━━━━━━━━━━━━━━\u001b[0m\u001b[37m\u001b[0m \u001b[1m0s\u001b[0m 4ms/step - loss: 0.0087 - mae: 0.0721 - val_loss: 0.0082 - val_mae: 0.0707 - learning_rate: 2.0000e-04\n",
            "Epoch 26/100\n",
            "\u001b[1m79/79\u001b[0m \u001b[32m━━━━━━━━━━━━━━━━━━━━\u001b[0m\u001b[37m\u001b[0m \u001b[1m0s\u001b[0m 4ms/step - loss: 0.0083 - mae: 0.0708 - val_loss: 0.0081 - val_mae: 0.0701 - learning_rate: 2.0000e-04\n",
            "Epoch 27/100\n",
            "\u001b[1m79/79\u001b[0m \u001b[32m━━━━━━━━━━━━━━━━━━━━\u001b[0m\u001b[37m\u001b[0m \u001b[1m0s\u001b[0m 4ms/step - loss: 0.0084 - mae: 0.0706 - val_loss: 0.0083 - val_mae: 0.0708 - learning_rate: 2.0000e-04\n",
            "Epoch 28/100\n",
            "\u001b[1m79/79\u001b[0m \u001b[32m━━━━━━━━━━━━━━━━━━━━\u001b[0m\u001b[37m\u001b[0m \u001b[1m0s\u001b[0m 4ms/step - loss: 0.0087 - mae: 0.0725 - val_loss: 0.0083 - val_mae: 0.0708 - learning_rate: 2.0000e-04\n"
          ]
        }
      ]
    },
    {
      "cell_type": "code",
      "source": [
        "# Evaluación\n",
        "test_loss, test_mae = model.evaluate(X_test_scaled, y_test / 100, verbose=0)\n",
        "print(f\"Test Loss: {test_loss}, Test MAE: {test_mae * 100}\")\n"
      ],
      "metadata": {
        "colab": {
          "base_uri": "https://localhost:8080/"
        },
        "id": "Ax6Lt6Hkk-5W",
        "outputId": "9f578107-d7a8-4915-e156-1b0b0cb186f4"
      },
      "execution_count": null,
      "outputs": [
        {
          "output_type": "stream",
          "name": "stdout",
          "text": [
            "Test Loss: 0.007681441958993673, Test MAE: 6.774382293224335\n"
          ]
        }
      ]
    },
    {
      "cell_type": "markdown",
      "source": [
        "**Resultados**\n",
        "\n",
        "El modelo final fue evaluado en el conjunto de prueba, y los resultados mostraron una reducción significativa en la métrica de error medio absoluto (MAE) en comparación con las evaluaciones iniciales. Los valores de predicción generados por el modelo mostraron una correlación alta con los valores reales, lo que indica que el modelo es capaz de capturar los patrones en los datos subyacentes de manera efectiva. Se generaron gráficos de comparación entre las predicciones del modelo y los valores reales, los cuales muestran una alineación aceptable entre ambas series. Este resultado valida la efectividad del modelo para realizar predicciones razonablemente precisas en el contexto electoral."
      ],
      "metadata": {
        "id": "Tvqb8V93FkPn"
      }
    },
    {
      "cell_type": "code",
      "source": [
        "predictions = model.predict(X_test_scaled) * 100\n",
        "print(\"Algunas predicciones:\", predictions[:5].flatten())\n",
        "for i, pred in enumerate(predictions[:5], 1):\n",
        "    print(f\"El valor {pred[0]:.2f} indica que el modelo predice un {pred[0]:.2f}% de votos demócratas en la región {i} del conjunto de prueba.\")\n"
      ],
      "metadata": {
        "colab": {
          "base_uri": "https://localhost:8080/"
        },
        "id": "n3Av7vgylBrW",
        "outputId": "748e23a9-cc69-49c5-9c03-4d02c31e1698"
      },
      "execution_count": null,
      "outputs": [
        {
          "output_type": "stream",
          "name": "stdout",
          "text": [
            "\u001b[1m20/20\u001b[0m \u001b[32m━━━━━━━━━━━━━━━━━━━━\u001b[0m\u001b[37m\u001b[0m \u001b[1m0s\u001b[0m 8ms/step\n",
            "Algunas predicciones: [21.17947  47.535225 27.350607 28.507095 46.188736]\n",
            "El valor 21.18 indica que el modelo predice un 21.18% de votos demócratas en la región 1 del conjunto de prueba.\n",
            "El valor 47.54 indica que el modelo predice un 47.54% de votos demócratas en la región 2 del conjunto de prueba.\n",
            "El valor 27.35 indica que el modelo predice un 27.35% de votos demócratas en la región 3 del conjunto de prueba.\n",
            "El valor 28.51 indica que el modelo predice un 28.51% de votos demócratas en la región 4 del conjunto de prueba.\n",
            "El valor 46.19 indica que el modelo predice un 46.19% de votos demócratas en la región 5 del conjunto de prueba.\n"
          ]
        }
      ]
    },
    {
      "cell_type": "code",
      "source": [
        "n_samples = 100\n",
        "plt.figure(figsize=(12, 6))\n",
        "plt.plot(predictions[:n_samples], label='Predicciones', marker='o', color='blue', linestyle='dashed')\n",
        "plt.plot(y_test[:n_samples].reset_index(drop=True), label='Valores Reales', marker='x', color='red', linestyle='solid')\n",
        "\n",
        "plt.title('Comparación entre Predicciones y Valores Reales')\n",
        "plt.xlabel('Índice de muestra')\n",
        "plt.ylabel('Porcentaje de votos demócratas (%)')\n",
        "plt.legend()\n",
        "plt.show()"
      ],
      "metadata": {
        "colab": {
          "base_uri": "https://localhost:8080/",
          "height": 565
        },
        "id": "X4E_AbYllFle",
        "outputId": "84075c8a-473b-467d-af8c-a2b00d49c2d5"
      },
      "execution_count": null,
      "outputs": [
        {
          "output_type": "display_data",
          "data": {
            "text/plain": [
              "<Figure size 1200x600 with 1 Axes>"
            ],
            "image/png": "[encoded data removed]"
          },
          "metadata": {}
        }
      ]
    },
    {
      "cell_type": "markdown",
      "source": [
        "**Conclusiones**\n",
        "\n",
        "Los resultados obtenidos demuestran que el modelo desarrollado es una herramienta eficaz para predecir el porcentaje de votos demócratas en distintas regiones, con una precisión razonable. Sin embargo, hay áreas en las que se podría mejorar el modelo. Por ejemplo, se podría explorar la adición de variables adicionales que capturen mejor las dinámicas locales, como variables de contexto político, histórico o cultural. Además, la implementación de modelos más complejos, como redes neuronales recurrentes (RNNs) o técnicas de ensamblado con otros modelos de aprendizaje automático, podría ofrecer una mayor precisión. La optimización de los hiperparámetros mediante técnicas más avanzadas, como la búsqueda en cuadrícula o el uso de algoritmos genéticos, también representa una posible mejora en el rendimiento del modelo."
      ],
      "metadata": {
        "id": "h15LzVZcFumW"
      }
    },
    {
      "cell_type": "markdown",
      "source": [
        "**Aplicación**\n",
        "\n",
        "Se desarrolló una función para realizar predicciones del porcentaje de votos demócratas utilizando el modelo ajustado y entrenado. Esta función permite ingresar nuevas muestras de datos, procesarlas de manera consistente con el preprocesamiento aplicado al conjunto de datos original y generar predicciones basadas en los patrones aprendidos por el modelo. El proceso de predicción comienza transformando los datos de entrada en un formato que el modelo pueda interpretar. Esto incluye convertir los datos en un DataFrame y asegurarse de que las columnas coincidan con las del conjunto de entrenamiento. Las columnas faltantes se rellenan con ceros para mantener la estructura esperada. Aunque las columnas categóricas como state fueron eliminadas durante el preprocesamiento inicial, si estuvieran presentes en el conjunto de datos, se aplicarían transformaciones adicionales, como la codificación numérica mediante un LabelEncoder.\n",
        "\n",
        "Posteriormente, las columnas de texto se limpian para eliminar caracteres no numéricos, como comas, signos de porcentaje y valores inválidos (-). Esta limpieza asegura que los datos puedan ser procesados correctamente. Cualquier valor faltante después de este proceso se completa utilizando el promedio de la columna, manteniendo la coherencia con la estrategia de imputación implementada durante el preprocesamiento original. Una vez preparados, los datos se escalan utilizando el pipeline de preprocesamiento previamente definido. Este escalado garantiza que las características de entrada estén normalizadas, lo que es crucial para obtener predicciones consistentes del modelo.\n",
        "\n",
        "El modelo predice el porcentaje de votos demócratas como un valor entre 0 y 1 gracias a la activación sigmoid en la capa de salida. Este resultado se escala al rango [0, 100] para interpretarlo como un porcentaje. Finalmente, la predicción se devuelve como la estimación del modelo para el porcentaje de votos demócratas basado en las características ingresadas."
      ],
      "metadata": {
        "id": "m2PwSsBchpMW"
      }
    },
    {
      "cell_type": "code",
      "source": [
        "model_tuned = model\n",
        "\n",
        "def predict_democrat_vote_percentage(input_data):\n",
        "    input_data = pd.DataFrame([input_data])\n",
        "    X_train_columns = X_train.columns if isinstance(X_train, pd.DataFrame) else [f\"feature_{i}\" for i in range(X_train.shape[1])]\n",
        "    input_data = input_data.reindex(columns=X_train_columns, fill_value=0)\n",
        "    if 'state' in input_data.columns:\n",
        "        input_data['state'] = LabelEncoder().fit_transform(input_data['state'])\n",
        "\n",
        "    # Limpieza de columnas de texto\n",
        "    for col in input_data.columns:\n",
        "        if input_data[col].dtype == 'object':\n",
        "            input_data[col] = (\n",
        "                input_data[col]\n",
        "                .str.replace(',', '')\n",
        "                .str.replace('%', '')\n",
        "                .replace('-', np.nan)\n",
        "                .astype(float)\n",
        "            )\n",
        "\n",
        "    input_data.fillna(input_data.mean(), inplace=True)\n",
        "\n",
        "    # Preprocesar usando el pipeline creado anteriormente\n",
        "    input_data_scaled = preprocessor.transform(input_data)\n",
        "\n",
        "    # Predicción\n",
        "    prediction = model_tuned.predict(input_data_scaled)\n",
        "\n",
        "    # Escalar el resultado de vuelta al rango original (0-100)\n",
        "    return prediction[0] * 100\n",
        "\n",
        "# Ejemplo\n",
        "nueva_muestra = {\n",
        "    \"Population with less than 9th grade education\": 2000,\n",
        "    \"Population with 9th to 12th grade education, no diploma\": 1500,\n",
        "    \"High School graduate and equivalent\": 10000,\n",
        "    \"Some College,No Degree\": 8000,\n",
        "    \"Associates Degree\": 3000,\n",
        "    \"Bachelors Degree\": 5000,\n",
        "    \"Graduate or professional degree\": 2000,\n",
        "    \"Gini Index\": 0.45,\n",
        "    \"Median income (dollars)\": 35000,\n",
        "    \"Mean income (dollars)\": 45000,\n",
        "    \"Area in square Km\": 100,\n",
        "    \"Density per square km\": 500,\n",
        "    \"Total Population\": 150000,\n",
        "    \"Hispanic or Latino percentage\": 0.1,\n",
        "    \"NH-White percentage\": 0.8,\n",
        "    \"NH-Black percentage\": 0.1,\n",
        "    # Añadir otras columnas relevantes...\n",
        "}\n",
        "\n",
        "print(\"Predicción de voto demócrata para la nueva muestra:\", predict_democrat_vote_percentage(nueva_muestra))\n"
      ],
      "metadata": {
        "colab": {
          "base_uri": "https://localhost:8080/"
        },
        "id": "LUva3DYFm7Fr",
        "outputId": "5cbade5e-6139-4c31-e1a3-b514237f896e"
      },
      "execution_count": null,
      "outputs": [
        {
          "output_type": "stream",
          "name": "stdout",
          "text": [
            "\u001b[1m1/1\u001b[0m \u001b[32m━━━━━━━━━━━━━━━━━━━━\u001b[0m\u001b[37m\u001b[0m \u001b[1m0s\u001b[0m 22ms/step\n",
            "Predicción de voto demócrata para la nueva muestra: [59.02125]\n"
          ]
        }
      ]
    },
    {
      "cell_type": "markdown",
      "source": [
        "**Bibliografía**\n",
        "\n",
        "essarabi. (2020). US Election Dataset. Kaggle.com. https://www.kaggle.com/datasets/essarabi/ultimate-us-election-dataset\n",
        "\n",
        "‌"
      ],
      "metadata": {
        "id": "G0RVUZ2VlFT-"
      }
    }
  ]
}